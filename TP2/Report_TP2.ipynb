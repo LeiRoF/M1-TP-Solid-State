{
 "cells": [
  {
   "cell_type": "markdown",
   "metadata": {},
   "source": [
    "# Question 1\n",
    "\n",
    "GGA -> Generalized Gradient Approximation\\\n",
    "PE ->  \tPerdew-Burke-Ernzerhof (GGA fonctionnal)"
   ]
  },
  {
   "cell_type": "markdown",
   "metadata": {},
   "source": [
    "# Question 2\n",
    "\n",
    "```\n",
    "PAW_PBE C 08Apr2002\n",
    " 4.00000000000000000\n",
    " parameters from PSCTR are:\n",
    "   VRHFIN =C: s2p2\n",
    "   LEXCH  = PE\n",
    "   EATOM  =   147.1560 eV,   10.8157 Ry\n",
    "\n",
    "   TITEL  = PAW_PBE C 08Apr2002\n",
    "   LULTRA =        F    use ultrasoft PP ?\n",
    "   IUNSCR =        0    unscreen: 0-lin 1-nonlin 2-no\n",
    "   RPACOR =     .000    partial core radius\n",
    "   POMASS =   12.011; ZVAL   =    4.000    mass and valenz\n",
    "   RCORE  =    1.500    outmost cutoff radius\n",
    "   RWIGS  =    1.630; RWIGS  =     .863    wigner-seitz radius (au A)\n",
    "   ENMAX  =  400.000; ENMIN  =  300.000 eV\n",
    "   ICORE  =        2    local potential\n",
    "   LCOR   =        T    correct aug charges\n",
    "   LPAW   =        T    paw PP\n",
    "   EAUG   =  644.873\n",
    "   DEXC   =     .000\n",
    "   RMAX   =    2.266    core radius for proj-oper\n",
    "   RAUG   =    1.300    factor for augmentation sphere\n",
    "   RDEP   =    1.501    radius for radial grids\n",
    "   RDEPT  =    1.300    core radius for aug-charge\n",
    "   QCUT   =   -5.516; QGAM   =   11.032    optimization parameters\n",
    "   ```\n",
    "\n",
    "   "
   ]
  },
  {
   "cell_type": "markdown",
   "metadata": {},
   "source": []
  }
 ],
 "metadata": {
  "language_info": {
   "name": "python"
  },
  "orig_nbformat": 4
 },
 "nbformat": 4,
 "nbformat_minor": 2
}
